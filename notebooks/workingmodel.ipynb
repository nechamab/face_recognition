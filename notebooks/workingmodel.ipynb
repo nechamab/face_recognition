{
 "cells": [
  {
   "cell_type": "markdown",
   "metadata": {
    "id": "lQ7lgyjBhAzt"
   },
   "source": [
    "# Setup"
   ]
  },
  {
   "cell_type": "code",
   "execution_count": 1,
   "metadata": {
    "ExecuteTime": {
     "end_time": "2024-02-23T19:40:39.805295Z",
     "start_time": "2024-02-23T19:40:27.514556Z"
    },
    "id": "aNIEmWJXg-71"
   },
   "outputs": [
    {
     "name": "stderr",
     "output_type": "stream",
     "text": [
      "2024-02-23 14:40:27.566536: I tensorflow/core/platform/cpu_feature_guard.cc:193] This TensorFlow binary is optimized with oneAPI Deep Neural Network Library (oneDNN) to use the following CPU instructions in performance-critical operations:  SSE4.1 SSE4.2 AVX AVX2 AVX512F AVX512_VNNI FMA\n",
      "To enable them in other operations, rebuild TensorFlow with the appropriate compiler flags.\n"
     ]
    }
   ],
   "source": [
    "import random\n",
    "import numpy as np\n",
    "import keras\n",
    "from keras import backend as K\n",
    "import matplotlib.pyplot as plt\n",
    "from sklearn.datasets import fetch_olivetti_faces\n",
    "from sklearn.model_selection import train_test_split"
   ]
  },
  {
   "cell_type": "markdown",
   "metadata": {
    "id": "VrmU_Az0hWXt"
   },
   "source": [
    "# Hyperparameters"
   ]
  },
  {
   "cell_type": "code",
   "execution_count": 2,
   "metadata": {
    "ExecuteTime": {
     "end_time": "2024-02-23T19:40:40.727450Z",
     "start_time": "2024-02-23T19:40:40.721756Z"
    },
    "id": "rylLO2gVhUv_"
   },
   "outputs": [],
   "source": [
    "epochs = 10\n",
    "batch_size = 16\n",
    "margin = 1  # Margin for contrastive loss."
   ]
  },
  {
   "cell_type": "markdown",
   "metadata": {
    "id": "AGbRB4cziGsV"
   },
   "source": [
    "# Load the Olivetti dataset"
   ]
  },
  {
   "cell_type": "code",
   "execution_count": 3,
   "metadata": {
    "ExecuteTime": {
     "end_time": "2024-02-23T19:40:41.950048Z",
     "start_time": "2024-02-23T19:40:41.861470Z"
    },
    "id": "_H6i0Eh4hYc1"
   },
   "outputs": [],
   "source": [
    "data = fetch_olivetti_faces()\n",
    "face_images = data.images\n",
    "face_labels = data.target\n",
    "\n",
    "x_train_val, x_test, y_train_val, y_test = train_test_split(\n",
    "    face_images, face_labels, test_size=0.2, random_state=42\n",
    ")\n",
    "\n",
    "# Change the data type to a floating point format\n",
    "x_train_val = x_train_val.astype(\"float32\")\n",
    "x_test = x_test.astype(\"float32\")"
   ]
  },
  {
   "cell_type": "markdown",
   "metadata": {
    "id": "PBHkKs_wiDZQ"
   },
   "source": [
    "# Define training and validation sets"
   ]
  },
  {
   "cell_type": "code",
   "execution_count": 4,
   "metadata": {
    "ExecuteTime": {
     "end_time": "2024-02-23T19:40:46.754270Z",
     "start_time": "2024-02-23T19:40:46.743691Z"
    },
    "colab": {
     "base_uri": "https://localhost:8080/"
    },
    "id": "TEL4yPpgigYR",
    "outputId": "1216112d-d530-4524-abec-807469fbf059"
   },
   "outputs": [
    {
     "data": {
      "text/plain": [
       "320"
      ]
     },
     "execution_count": 4,
     "metadata": {},
     "output_type": "execute_result"
    }
   ],
   "source": [
    "len(x_train_val)"
   ]
  },
  {
   "cell_type": "code",
   "execution_count": 5,
   "metadata": {
    "ExecuteTime": {
     "end_time": "2024-02-23T19:40:47.531012Z",
     "start_time": "2024-02-23T19:40:47.524840Z"
    },
    "id": "kbz-uEvLh2we"
   },
   "outputs": [],
   "source": [
    "# Keep 50% of train_val  in validation set\n",
    "x_train, x_val = x_train_val[:160], x_train_val[160:]\n",
    "y_train, y_val = y_train_val[:160], y_train_val[160:]\n",
    "del x_train_val, y_train_val"
   ]
  },
  {
   "cell_type": "markdown",
   "metadata": {
    "id": "-1_LoQEaiKDC"
   },
   "source": [
    "# Create pairs of images"
   ]
  },
  {
   "cell_type": "code",
   "execution_count": 7,
   "metadata": {
    "ExecuteTime": {
     "end_time": "2024-02-23T19:41:27.501394Z",
     "start_time": "2024-02-23T19:41:27.432880Z"
    },
    "colab": {
     "base_uri": "https://localhost:8080/",
     "height": 526
    },
    "id": "RhcKfAs_h8aL",
    "outputId": "f42aac45-84f6-42fb-f2f1-9f099a969113"
   },
   "outputs": [],
   "source": [
    "def make_pairs(x, y):\n",
    "    \"\"\"Creates a tuple containing image pairs with corresponding label.\n",
    "\n",
    "    Arguments:\n",
    "        x: List containing images, each index in this list corresponds to one image.\n",
    "        y: List containing labels, each label with datatype of `int`.\n",
    "\n",
    "    Returns:\n",
    "        Tuple containing two numpy arrays as (pairs_of_samples, labels),\n",
    "        where pairs_of_samples' shape is (2len(x), 2,n_features_dims) and\n",
    "        labels are a binary array of shape (2len(x)).\n",
    "    \"\"\"\n",
    "\n",
    "    num_classes = max(y) + 1\n",
    "    digit_indices = [np.where(y == i)[0] for i in range(num_classes)]\n",
    "    \n",
    "    pairs = []\n",
    "    labels = []\n",
    "\n",
    "    for idx1 in range(len(x)):\n",
    "        # add a matching example\n",
    "        x1 = x[idx1]\n",
    "        label1 = y[idx1]\n",
    "        idx2 = random.choice(digit_indices[label1])\n",
    "        x2 = x[idx2]\n",
    "\n",
    "        pairs += [[x1, x2]]\n",
    "        labels += [0]\n",
    "\n",
    "        # add a non-matching example\n",
    "        label2 = random.randint(0, num_classes - 1)\n",
    "        while label2 == label1 or len(digit_indices[label2]) == 0:\n",
    "            label2 = random.randint(0, num_classes - 1)\n",
    "\n",
    "        idx2 = random.choice(digit_indices[label2])\n",
    "        x2 = x[idx2]\n",
    "\n",
    "        pairs += [[x1, x2]]\n",
    "        labels += [1]\n",
    "\n",
    "    return np.array(pairs), np.array(labels).astype(\"float32\")\n",
    "\n",
    "\n",
    "# make train pairs\n",
    "pairs_train, labels_train = make_pairs(x_train, y_train)\n",
    "\n",
    "# make validation pairs\n",
    "pairs_val, labels_val = make_pairs(x_val, y_val)\n",
    "\n",
    "# make test pairs\n",
    "pairs_test, labels_test = make_pairs(x_test, y_test)"
   ]
  },
  {
   "cell_type": "code",
   "execution_count": 8,
   "metadata": {
    "ExecuteTime": {
     "end_time": "2024-02-23T19:41:28.770936Z",
     "start_time": "2024-02-23T19:41:28.729049Z"
    },
    "id": "uV79HGiWn_5b"
   },
   "outputs": [],
   "source": [
    "\n",
    "def make_pairs(x, y):\n",
    "    num_classes = max(y) + 1\n",
    "    digit_indices = [np.where(y == i)[0] for i in range(num_classes)]\n",
    "\n",
    "    pairs = []\n",
    "    labels = []\n",
    "\n",
    "    for idx1 in range(len(x)):\n",
    "        x1 = x[idx1]\n",
    "        label1 = y[idx1]\n",
    "        idx2 = random.choice(digit_indices[label1])\n",
    "        x2 = x[idx2]\n",
    "\n",
    "        pairs += [[x1, x2]]\n",
    "        labels += [0]\n",
    "\n",
    "        label2 = random.randint(0, num_classes - 1)\n",
    "        while label2 == label1 or len(digit_indices[label2]) == 0:\n",
    "            label2 = random.randint(0, num_classes - 1)\n",
    "\n",
    "        idx2 = random.choice(digit_indices[label2])\n",
    "        x2 = x[idx2]\n",
    "\n",
    "        pairs += [[x1, x2]]\n",
    "        labels += [1]\n",
    "\n",
    "    return np.array(pairs), np.array(labels).astype(\"float32\")\n",
    "\n",
    "\n",
    "# make train pairs\n",
    "pairs_train, labels_train = make_pairs(x_train, y_train)\n",
    "\n",
    "# make validation pairs\n",
    "pairs_val, labels_val = make_pairs(x_val, y_val)\n",
    "\n",
    "# make test pairs\n",
    "pairs_test, labels_test = make_pairs(x_test, y_test)"
   ]
  },
  {
   "cell_type": "code",
   "execution_count": 9,
   "metadata": {
    "ExecuteTime": {
     "end_time": "2024-02-23T19:41:29.627606Z",
     "start_time": "2024-02-23T19:41:29.622926Z"
    },
    "id": "SH-joBNmiP3G"
   },
   "outputs": [],
   "source": [
    "x_train_1 = pairs_train[:, 0]  # x_train_1.shape is (320, 64, 64)\n",
    "x_train_2 = pairs_train[:, 1]"
   ]
  },
  {
   "cell_type": "code",
   "execution_count": 10,
   "metadata": {
    "ExecuteTime": {
     "end_time": "2024-02-23T19:41:30.463043Z",
     "start_time": "2024-02-23T19:41:30.457365Z"
    },
    "id": "eqwKjgtQj4wR"
   },
   "outputs": [],
   "source": [
    "x_val_1 = pairs_val[:, 0]  # x_val_1.shape = (320, 64, 64)\n",
    "x_val_2 = pairs_val[:, 1]"
   ]
  },
  {
   "cell_type": "code",
   "execution_count": 11,
   "metadata": {
    "ExecuteTime": {
     "end_time": "2024-02-23T19:41:31.197640Z",
     "start_time": "2024-02-23T19:41:31.193084Z"
    },
    "id": "XL_x0Z3Cj8H1"
   },
   "outputs": [],
   "source": [
    "x_test_1 = pairs_test[:, 0]  # x_test_1.shape = (160, 64, 64)\n",
    "x_test_2 = pairs_test[:, 1]"
   ]
  },
  {
   "cell_type": "code",
   "execution_count": null,
   "metadata": {
    "id": "G9E9ALyroQXp"
   },
   "outputs": [],
   "source": []
  },
  {
   "cell_type": "markdown",
   "metadata": {
    "id": "IKf_ERhHoTVJ"
   },
   "source": [
    "# Visualize pairs and their labels\n"
   ]
  },
  {
   "cell_type": "code",
   "execution_count": 12,
   "metadata": {
    "ExecuteTime": {
     "end_time": "2024-02-23T19:41:34.931940Z",
     "start_time": "2024-02-23T19:41:34.919210Z"
    },
    "id": "AY9ipn51oUc5"
   },
   "outputs": [],
   "source": [
    "def visualize(pairs, labels, to_show=6, num_col=3, predictions=None, test=False):\n",
    "    \"\"\"Creates a plot of pairs and labels, and prediction if it's test dataset.\n",
    "\n",
    "    Arguments:\n",
    "        pairs: Numpy Array, of pairs to visualize, having shape\n",
    "               (Number of pairs, 2, 28, 28).\n",
    "        to_show: Int, number of examples to visualize (default is 6)\n",
    "                `to_show` must be an integral multiple of `num_col`.\n",
    "                 Otherwise it will be trimmed if it is greater than num_col,\n",
    "                 and incremented if if it is less then num_col.\n",
    "        num_col: Int, number of images in one row - (default is 3)\n",
    "                 For test and train respectively, it should not exceed 3 and 7.\n",
    "        predictions: Numpy Array of predictions with shape (to_show, 1) -\n",
    "                     (default is None)\n",
    "                     Must be passed when test=True.\n",
    "        test: Boolean telling whether the dataset being visualized is\n",
    "              train dataset or test dataset - (default False).\n",
    "\n",
    "    Returns:\n",
    "        None.\n",
    "    \"\"\"\n",
    "\n",
    "    # Define num_row\n",
    "    # If to_show % num_col != 0\n",
    "    #    trim to_show,\n",
    "    #       to trim to_show limit num_row to the point where\n",
    "    #       to_show % num_col == 0\n",
    "    #\n",
    "    # If to_show//num_col == 0\n",
    "    #    then it means num_col is greater then to_show\n",
    "    #    increment to_show\n",
    "    #       to increment to_show set num_row to 1\n",
    "    num_row = to_show // num_col if to_show // num_col != 0 else 1\n",
    "\n",
    "    # `to_show` must be an integral multiple of `num_col`\n",
    "    #  we found num_row and we have num_col\n",
    "    #  to increment or decrement to_show\n",
    "    #  to make it integral multiple of `num_col`\n",
    "    #  simply set it equal to num_row * num_col\n",
    "    to_show = num_row * num_col\n",
    "\n",
    "    # Plot the images\n",
    "    fig, axes = plt.subplots(num_row, num_col, figsize=(5, 5))\n",
    "    for i in range(to_show):\n",
    "        # If the number of rows is 1, the axes array is one-dimensional\n",
    "        if num_row == 1:\n",
    "            ax = axes[i % num_col]\n",
    "        else:\n",
    "            ax = axes[i // num_col, i % num_col]\n",
    "\n",
    "            ax.imshow(np.concatenate([pairs[i][0], pairs[i][1]], axis=1), cmap=\"gray\")\n",
    "        ax.set_axis_off()\n",
    "        if test:\n",
    "            ax.set_title(\"True: {} | Pred: {:.5f}\".format(labels[i], predictions[i][0]))\n",
    "        else:\n",
    "            ax.set_title(\"Label: {}\".format(labels[i]))\n",
    "    if test:\n",
    "        plt.tight_layout(rect=(0, 0, 1.9, 1.9), w_pad=0.0)\n",
    "    else:\n",
    "        plt.tight_layout(rect=(0, 0, 1.5, 1.5))\n",
    "    plt.show()"
   ]
  },
  {
   "cell_type": "code",
   "execution_count": 15,
   "metadata": {
    "ExecuteTime": {
     "end_time": "2024-02-23T19:41:59.810607Z",
     "start_time": "2024-02-23T19:41:59.536573Z"
    },
    "colab": {
     "base_uri": "https://localhost:8080/",
     "height": 757
    },
    "id": "DMNoLNYXoal_",
    "outputId": "dc3de322-4c33-42d0-ada8-259b4043d054"
   },
   "outputs": [
    {
     "data": {
      "image/png": "[encoded data removed]",
      "text/plain": [
       "<Figure size 500x500 with 4 Axes>"
      ]
     },
     "metadata": {},
     "output_type": "display_data"
    }
   ],
   "source": [
    "visualize(pairs_train[:-1], labels_train[:-1], to_show=4, num_col=4)"
   ]
  },
  {
   "cell_type": "code",
   "execution_count": 64,
   "metadata": {
    "colab": {
     "base_uri": "https://localhost:8080/",
     "height": 757
    },
    "id": "VwoK1eosocyv",
    "outputId": "3dc852d3-a672-4cc9-ca1b-b1ca08d06214"
   },
   "outputs": [
    {
     "data": {
      "image/png": "[encoded data removed]",
      "text/plain": [
       "<Figure size 500x500 with 4 Axes>"
      ]
     },
     "metadata": {},
     "output_type": "display_data"
    }
   ],
   "source": [
    "visualize(pairs_val[:-1], labels_val[:-1], to_show=4, num_col=4)"
   ]
  },
  {
   "cell_type": "code",
   "execution_count": 65,
   "metadata": {
    "colab": {
     "base_uri": "https://localhost:8080/",
     "height": 757
    },
    "id": "zARWiHBJoo4t",
    "outputId": "d17f3742-4d6a-425b-e2e0-9f99eae08727"
   },
   "outputs": [
    {
     "data": {
      "image/png": "[encoded data removed]",
      "text/plain": [
       "<Figure size 500x500 with 4 Axes>"
      ]
     },
     "metadata": {},
     "output_type": "display_data"
    }
   ],
   "source": [
    "visualize(pairs_test[:-1], labels_test[:-1], to_show=4, num_col=4)"
   ]
  },
  {
   "cell_type": "markdown",
   "metadata": {
    "id": "v7yvy6zxov1A"
   },
   "source": [
    "# Define Model"
   ]
  },
  {
   "cell_type": "code",
   "execution_count": 79,
   "metadata": {
    "id": "VEMEIb1ZowNx"
   },
   "outputs": [],
   "source": [
    "# Provided two tensors t1 and t2\n",
    "# Euclidean distance = sqrt(sum(square(t1-t2)))\n",
    "def euclidean_distance(vects):\n",
    "    \"\"\"Find the Euclidean distance between two vectors.\n",
    "\n",
    "    Arguments:\n",
    "        vects: List containing two tensors of same length.\n",
    "\n",
    "    Returns:\n",
    "        Tensor containing euclidean distance\n",
    "        (as floating point value) between vectors.\n",
    "    \"\"\"\n",
    "\n",
    "    x, y = vects\n",
    "    sum_square = K.sum(K.square(x - y), axis=1, keepdims=True)\n",
    "    return K.sqrt(K.maximum(sum_square, K.epsilon()))\n",
    "\n",
    "\n",
    "input = keras.layers.Input((64, 64, 1))\n",
    "x = keras.layers.BatchNormalization()(input)\n",
    "x = keras.layers.Conv2D(4, (5, 5), activation=\"relu\")(x)\n",
    "x = keras.layers.AveragePooling2D(pool_size=(2, 2))(x)\n",
    "x = keras.layers.Conv2D(16, (5, 5), activation=\"relu\")(x)\n",
    "x = keras.layers.AveragePooling2D(pool_size=(2, 2))(x)\n",
    "x = keras.layers.Flatten()(x)\n",
    "\n",
    "x = keras.layers.BatchNormalization()(x)\n",
    "x = keras.layers.Dense(10, activation=\"relu\")(x)\n",
    "embedding_network = keras.Model(input, x)\n",
    "\n",
    "\n",
    "input_1 = keras.layers.Input((64, 64, 1))\n",
    "input_2 = keras.layers.Input((64, 64, 1))\n",
    "\n",
    "# As mentioned above, Siamese Network share weights between\n",
    "# tower networks (sister networks). To allow this, we will use\n",
    "# same embedding network for both tower networks.\n",
    "tower_1 = embedding_network(input_1)\n",
    "tower_2 = embedding_network(input_2)\n",
    "\n",
    "merge_layer = keras.layers.Lambda(euclidean_distance, output_shape=(1,))(\n",
    "    [tower_1, tower_2]\n",
    ")\n",
    "normal_layer = keras.layers.BatchNormalization()(merge_layer)\n",
    "output_layer = keras.layers.Dense(1, activation=\"sigmoid\")(normal_layer)\n",
    "siamese = keras.Model(inputs=[input_1, input_2], outputs=output_layer)"
   ]
  },
  {
   "cell_type": "markdown",
   "metadata": {
    "id": "IMLak3Exo6Il"
   },
   "source": [
    "# Define Contrastive Loss"
   ]
  },
  {
   "cell_type": "code",
   "execution_count": 80,
   "metadata": {
    "id": "kr6AbpFwo1lx"
   },
   "outputs": [],
   "source": [
    "def loss(margin=1):\n",
    "    \"\"\"Provides 'contrastive_loss' an enclosing scope with variable 'margin'.\n",
    "\n",
    "    Arguments:\n",
    "        margin: Integer, defines the baseline for distance for which pairs\n",
    "                should be classified as dissimilar. - (default is 1).\n",
    "\n",
    "    Returns:\n",
    "        'contrastive_loss' function with data ('margin') attached.\n",
    "    \"\"\"\n",
    "\n",
    "    # Contrastive loss = mean( (1-true_value) * square(prediction) +\n",
    "    #                         true_value * square( max(margin-prediction, 0) ))\n",
    "    def contrastive_loss(y_true, y_pred):\n",
    "        \"\"\"Calculates the contrastive loss.\n",
    "\n",
    "        Arguments:\n",
    "            y_true: List of labels, each label is of type float32.\n",
    "            y_pred: List of predictions of same length as of y_true,\n",
    "                    each label is of type float32.\n",
    "\n",
    "        Returns:\n",
    "            A tensor containing contrastive loss as floating point value.\n",
    "        \"\"\"\n",
    "\n",
    "        square_pred = K.square(y_pred)\n",
    "        margin_square = K.square(K.maximum(margin - (y_pred), 0))\n",
    "        return K.mean((1 - y_true) * square_pred + (y_true) * margin_square)\n",
    "\n",
    "    return contrastive_loss"
   ]
  },
  {
   "cell_type": "markdown",
   "metadata": {
    "id": "VazkRMbFpCFc"
   },
   "source": [
    "# Compile the model with the contrastive loss\n"
   ]
  },
  {
   "cell_type": "code",
   "execution_count": 81,
   "metadata": {
    "colab": {
     "base_uri": "https://localhost:8080/"
    },
    "id": "CUr7EXdMo45o",
    "outputId": "1ed2952a-9430-41fa-a26f-373b562cfed4"
   },
   "outputs": [
    {
     "name": "stdout",
     "output_type": "stream",
     "text": [
      "Model: \"model_5\"\n",
      "__________________________________________________________________________________________________\n",
      " Layer (type)                Output Shape                 Param #   Connected to                  \n",
      "==================================================================================================\n",
      " input_8 (InputLayer)        [(None, 64, 64, 1)]          0         []                            \n",
      "                                                                                                  \n",
      " input_9 (InputLayer)        [(None, 64, 64, 1)]          0         []                            \n",
      "                                                                                                  \n",
      " model_4 (Functional)        (None, 10)                   39590     ['input_8[0][0]',             \n",
      "                                                                     'input_9[0][0]']             \n",
      "                                                                                                  \n",
      " lambda_2 (Lambda)           (None, 1)                    0         ['model_4[0][0]',             \n",
      "                                                                     'model_4[1][0]']             \n",
      "                                                                                                  \n",
      " batch_normalization_8 (Bat  (None, 1)                    4         ['lambda_2[0][0]']            \n",
      " chNormalization)                                                                                 \n",
      "                                                                                                  \n",
      " dense_5 (Dense)             (None, 1)                    2         ['batch_normalization_8[0][0]'\n",
      "                                                                    ]                             \n",
      "                                                                                                  \n",
      "==================================================================================================\n",
      "Total params: 39596 (154.67 KB)\n",
      "Trainable params: 34184 (133.53 KB)\n",
      "Non-trainable params: 5412 (21.14 KB)\n",
      "__________________________________________________________________________________________________\n"
     ]
    }
   ],
   "source": [
    "siamese.compile(loss=loss(margin=margin), optimizer=\"RMSprop\", metrics=[\"accuracy\"])\n",
    "siamese.summary()"
   ]
  },
  {
   "cell_type": "code",
   "execution_count": 82,
   "metadata": {
    "colab": {
     "base_uri": "https://localhost:8080/"
    },
    "id": "kfQ6mbpIpFC_",
    "outputId": "ae7a68ca-6919-4681-bedd-fbc55b077c4f"
   },
   "outputs": [
    {
     "name": "stdout",
     "output_type": "stream",
     "text": [
      "Epoch 1/150\n",
      "20/20 [==============================] - 4s 134ms/step - loss: 0.1713 - accuracy: 0.7656 - val_loss: 0.2513 - val_accuracy: 0.5000\n",
      "Epoch 2/150\n",
      "20/20 [==============================] - 3s 166ms/step - loss: 0.1189 - accuracy: 0.8906 - val_loss: 0.2656 - val_accuracy: 0.5000\n",
      "Epoch 3/150\n",
      "20/20 [==============================] - 3s 125ms/step - loss: 0.1070 - accuracy: 0.9187 - val_loss: 0.2838 - val_accuracy: 0.5000\n",
      "Epoch 4/150\n",
      "20/20 [==============================] - 2s 122ms/step - loss: 0.0925 - accuracy: 0.9688 - val_loss: 0.2866 - val_accuracy: 0.5000\n",
      "Epoch 5/150\n",
      "20/20 [==============================] - 2s 120ms/step - loss: 0.0856 - accuracy: 0.9812 - val_loss: 0.2890 - val_accuracy: 0.5000\n",
      "Epoch 6/150\n",
      "20/20 [==============================] - 2s 122ms/step - loss: 0.0768 - accuracy: 0.9875 - val_loss: 0.2753 - val_accuracy: 0.5000\n",
      "Epoch 7/150\n",
      "20/20 [==============================] - 4s 189ms/step - loss: 0.0705 - accuracy: 0.9906 - val_loss: 0.2846 - val_accuracy: 0.5000\n",
      "Epoch 8/150\n",
      "20/20 [==============================] - 2s 120ms/step - loss: 0.0678 - accuracy: 0.9906 - val_loss: 0.2467 - val_accuracy: 0.5000\n",
      "Epoch 9/150\n",
      "20/20 [==============================] - 2s 111ms/step - loss: 0.0669 - accuracy: 0.9937 - val_loss: 0.2482 - val_accuracy: 0.5000\n",
      "Epoch 10/150\n",
      "20/20 [==============================] - 2s 110ms/step - loss: 0.0673 - accuracy: 0.9875 - val_loss: 0.2044 - val_accuracy: 0.5781\n",
      "Epoch 11/150\n",
      "20/20 [==============================] - 2s 121ms/step - loss: 0.0531 - accuracy: 1.0000 - val_loss: 0.1943 - val_accuracy: 0.6219\n",
      "Epoch 12/150\n",
      "20/20 [==============================] - 4s 200ms/step - loss: 0.0516 - accuracy: 0.9969 - val_loss: 0.1660 - val_accuracy: 0.7437\n",
      "Epoch 13/150\n",
      "20/20 [==============================] - 2s 121ms/step - loss: 0.0489 - accuracy: 1.0000 - val_loss: 0.1446 - val_accuracy: 0.8094\n",
      "Epoch 14/150\n",
      "20/20 [==============================] - 2s 124ms/step - loss: 0.0415 - accuracy: 0.9969 - val_loss: 0.1442 - val_accuracy: 0.8156\n",
      "Epoch 15/150\n",
      "20/20 [==============================] - 2s 118ms/step - loss: 0.0421 - accuracy: 1.0000 - val_loss: 0.1238 - val_accuracy: 0.8562\n",
      "Epoch 16/150\n",
      "20/20 [==============================] - 2s 122ms/step - loss: 0.0436 - accuracy: 0.9969 - val_loss: 0.1169 - val_accuracy: 0.8531\n",
      "Epoch 17/150\n",
      "20/20 [==============================] - 3s 171ms/step - loss: 0.0349 - accuracy: 1.0000 - val_loss: 0.1123 - val_accuracy: 0.8625\n",
      "Epoch 18/150\n",
      "20/20 [==============================] - 2s 123ms/step - loss: 0.0371 - accuracy: 0.9969 - val_loss: 0.1007 - val_accuracy: 0.8938\n",
      "Epoch 19/150\n",
      "20/20 [==============================] - 2s 118ms/step - loss: 0.0281 - accuracy: 1.0000 - val_loss: 0.0988 - val_accuracy: 0.8875\n",
      "Epoch 20/150\n",
      "20/20 [==============================] - 2s 108ms/step - loss: 0.0319 - accuracy: 0.9969 - val_loss: 0.0983 - val_accuracy: 0.8875\n",
      "Epoch 21/150\n",
      "20/20 [==============================] - 2s 122ms/step - loss: 0.0317 - accuracy: 1.0000 - val_loss: 0.0969 - val_accuracy: 0.8906\n",
      "Epoch 22/150\n",
      "20/20 [==============================] - 3s 170ms/step - loss: 0.0333 - accuracy: 0.9875 - val_loss: 0.0945 - val_accuracy: 0.8844\n",
      "Epoch 23/150\n",
      "20/20 [==============================] - 2s 122ms/step - loss: 0.0339 - accuracy: 0.9906 - val_loss: 0.0913 - val_accuracy: 0.8906\n",
      "Epoch 24/150\n",
      "20/20 [==============================] - 2s 121ms/step - loss: 0.0249 - accuracy: 1.0000 - val_loss: 0.0898 - val_accuracy: 0.8906\n",
      "Epoch 25/150\n",
      "20/20 [==============================] - 2s 108ms/step - loss: 0.0237 - accuracy: 1.0000 - val_loss: 0.0932 - val_accuracy: 0.8750\n",
      "Epoch 26/150\n",
      "20/20 [==============================] - 2s 122ms/step - loss: 0.0195 - accuracy: 1.0000 - val_loss: 0.0926 - val_accuracy: 0.8844\n",
      "Epoch 27/150\n",
      "20/20 [==============================] - 3s 168ms/step - loss: 0.0182 - accuracy: 1.0000 - val_loss: 0.0961 - val_accuracy: 0.8687\n",
      "Epoch 28/150\n",
      "20/20 [==============================] - 2s 121ms/step - loss: 0.0216 - accuracy: 0.9969 - val_loss: 0.0942 - val_accuracy: 0.8719\n",
      "Epoch 29/150\n",
      "20/20 [==============================] - 2s 121ms/step - loss: 0.0181 - accuracy: 1.0000 - val_loss: 0.0875 - val_accuracy: 0.8781\n",
      "Epoch 30/150\n",
      "20/20 [==============================] - 2s 122ms/step - loss: 0.0197 - accuracy: 1.0000 - val_loss: 0.0920 - val_accuracy: 0.8594\n",
      "Epoch 31/150\n",
      "20/20 [==============================] - 2s 119ms/step - loss: 0.0177 - accuracy: 0.9969 - val_loss: 0.0900 - val_accuracy: 0.8875\n",
      "Epoch 32/150\n",
      "20/20 [==============================] - 3s 166ms/step - loss: 0.0174 - accuracy: 0.9969 - val_loss: 0.0954 - val_accuracy: 0.8719\n",
      "Epoch 33/150\n",
      "20/20 [==============================] - 2s 120ms/step - loss: 0.0138 - accuracy: 1.0000 - val_loss: 0.0986 - val_accuracy: 0.8469\n",
      "Epoch 34/150\n",
      "20/20 [==============================] - 2s 110ms/step - loss: 0.0135 - accuracy: 0.9969 - val_loss: 0.0935 - val_accuracy: 0.8844\n",
      "Epoch 35/150\n",
      "20/20 [==============================] - 2s 120ms/step - loss: 0.0121 - accuracy: 1.0000 - val_loss: 0.0944 - val_accuracy: 0.8750\n",
      "Epoch 36/150\n",
      "20/20 [==============================] - 2s 116ms/step - loss: 0.0113 - accuracy: 1.0000 - val_loss: 0.0913 - val_accuracy: 0.8813\n",
      "Epoch 37/150\n",
      "20/20 [==============================] - 3s 162ms/step - loss: 0.0139 - accuracy: 0.9937 - val_loss: 0.0945 - val_accuracy: 0.8625\n",
      "Epoch 38/150\n",
      "20/20 [==============================] - 2s 119ms/step - loss: 0.0111 - accuracy: 1.0000 - val_loss: 0.0896 - val_accuracy: 0.8813\n",
      "Epoch 39/150\n",
      "20/20 [==============================] - 2s 120ms/step - loss: 0.0098 - accuracy: 0.9969 - val_loss: 0.0888 - val_accuracy: 0.8719\n",
      "Epoch 40/150\n",
      "20/20 [==============================] - 2s 120ms/step - loss: 0.0093 - accuracy: 1.0000 - val_loss: 0.0835 - val_accuracy: 0.8844\n",
      "Epoch 41/150\n",
      "20/20 [==============================] - 2s 121ms/step - loss: 0.0096 - accuracy: 0.9969 - val_loss: 0.0891 - val_accuracy: 0.8781\n",
      "Epoch 42/150\n",
      "20/20 [==============================] - 3s 171ms/step - loss: 0.0082 - accuracy: 0.9969 - val_loss: 0.0915 - val_accuracy: 0.8719\n",
      "Epoch 43/150\n",
      "20/20 [==============================] - 2s 108ms/step - loss: 0.0064 - accuracy: 1.0000 - val_loss: 0.0928 - val_accuracy: 0.8687\n",
      "Epoch 44/150\n",
      "20/20 [==============================] - 2s 119ms/step - loss: 0.0046 - accuracy: 1.0000 - val_loss: 0.0942 - val_accuracy: 0.8687\n",
      "Epoch 45/150\n",
      "20/20 [==============================] - 2s 118ms/step - loss: 0.0051 - accuracy: 1.0000 - val_loss: 0.0922 - val_accuracy: 0.8625\n",
      "Epoch 46/150\n",
      "20/20 [==============================] - 2s 120ms/step - loss: 0.0072 - accuracy: 1.0000 - val_loss: 0.0898 - val_accuracy: 0.8719\n",
      "Epoch 47/150\n",
      "20/20 [==============================] - 3s 177ms/step - loss: 0.0063 - accuracy: 1.0000 - val_loss: 0.0866 - val_accuracy: 0.8813\n",
      "Epoch 48/150\n",
      "20/20 [==============================] - 2s 120ms/step - loss: 0.0080 - accuracy: 1.0000 - val_loss: 0.0880 - val_accuracy: 0.8719\n",
      "Epoch 49/150\n",
      "20/20 [==============================] - 2s 121ms/step - loss: 0.0048 - accuracy: 1.0000 - val_loss: 0.0757 - val_accuracy: 0.9062\n",
      "Epoch 50/150\n",
      "20/20 [==============================] - 2s 107ms/step - loss: 0.0040 - accuracy: 1.0000 - val_loss: 0.0954 - val_accuracy: 0.8625\n",
      "Epoch 51/150\n",
      "20/20 [==============================] - 2s 119ms/step - loss: 0.0070 - accuracy: 0.9937 - val_loss: 0.0930 - val_accuracy: 0.8813\n",
      "Epoch 52/150\n",
      "20/20 [==============================] - 3s 170ms/step - loss: 0.0053 - accuracy: 0.9969 - val_loss: 0.0863 - val_accuracy: 0.8906\n",
      "Epoch 53/150\n",
      "20/20 [==============================] - 2s 120ms/step - loss: 0.0053 - accuracy: 1.0000 - val_loss: 0.0849 - val_accuracy: 0.8906\n",
      "Epoch 54/150\n",
      "20/20 [==============================] - 2s 121ms/step - loss: 0.0041 - accuracy: 1.0000 - val_loss: 0.0870 - val_accuracy: 0.8781\n",
      "Epoch 55/150\n",
      "20/20 [==============================] - 2s 119ms/step - loss: 0.0055 - accuracy: 0.9937 - val_loss: 0.0908 - val_accuracy: 0.8750\n",
      "Epoch 56/150\n",
      "20/20 [==============================] - 2s 110ms/step - loss: 0.0035 - accuracy: 1.0000 - val_loss: 0.0861 - val_accuracy: 0.8906\n",
      "Epoch 57/150\n",
      "20/20 [==============================] - 4s 203ms/step - loss: 0.0039 - accuracy: 1.0000 - val_loss: 0.0870 - val_accuracy: 0.8719\n",
      "Epoch 58/150\n",
      "20/20 [==============================] - 2s 117ms/step - loss: 0.0049 - accuracy: 1.0000 - val_loss: 0.0998 - val_accuracy: 0.8656\n",
      "Epoch 59/150\n",
      "20/20 [==============================] - 2s 120ms/step - loss: 0.0030 - accuracy: 1.0000 - val_loss: 0.0846 - val_accuracy: 0.8750\n",
      "Epoch 60/150\n",
      "20/20 [==============================] - 2s 118ms/step - loss: 0.0037 - accuracy: 1.0000 - val_loss: 0.0973 - val_accuracy: 0.8594\n",
      "Epoch 61/150\n",
      "20/20 [==============================] - 2s 109ms/step - loss: 0.0022 - accuracy: 1.0000 - val_loss: 0.0796 - val_accuracy: 0.8938\n",
      "Epoch 62/150\n",
      "20/20 [==============================] - 3s 176ms/step - loss: 0.0030 - accuracy: 1.0000 - val_loss: 0.0898 - val_accuracy: 0.8813\n",
      "Epoch 63/150\n",
      "20/20 [==============================] - 2s 107ms/step - loss: 0.0045 - accuracy: 1.0000 - val_loss: 0.0981 - val_accuracy: 0.8781\n",
      "Epoch 64/150\n",
      "20/20 [==============================] - 2s 117ms/step - loss: 0.0046 - accuracy: 1.0000 - val_loss: 0.0882 - val_accuracy: 0.8813\n",
      "Epoch 65/150\n",
      "20/20 [==============================] - 2s 108ms/step - loss: 0.0090 - accuracy: 0.9937 - val_loss: 0.0861 - val_accuracy: 0.8750\n",
      "Epoch 66/150\n",
      "20/20 [==============================] - 4s 196ms/step - loss: 0.0030 - accuracy: 1.0000 - val_loss: 0.0926 - val_accuracy: 0.8656\n",
      "Epoch 67/150\n",
      "20/20 [==============================] - 3s 145ms/step - loss: 0.0019 - accuracy: 1.0000 - val_loss: 0.0869 - val_accuracy: 0.8781\n",
      "Epoch 68/150\n",
      "20/20 [==============================] - 2s 109ms/step - loss: 0.0020 - accuracy: 1.0000 - val_loss: 0.1007 - val_accuracy: 0.8656\n",
      "Epoch 69/150\n",
      "20/20 [==============================] - 2s 118ms/step - loss: 0.0058 - accuracy: 0.9937 - val_loss: 0.1078 - val_accuracy: 0.8500\n",
      "Epoch 70/150\n",
      "20/20 [==============================] - 2s 118ms/step - loss: 0.0040 - accuracy: 0.9969 - val_loss: 0.0936 - val_accuracy: 0.8750\n",
      "Epoch 71/150\n",
      "20/20 [==============================] - 2s 119ms/step - loss: 0.0013 - accuracy: 1.0000 - val_loss: 0.0857 - val_accuracy: 0.8750\n",
      "Epoch 72/150\n",
      "20/20 [==============================] - 3s 159ms/step - loss: 0.0014 - accuracy: 1.0000 - val_loss: 0.0807 - val_accuracy: 0.8844\n",
      "Epoch 73/150\n",
      "20/20 [==============================] - 2s 121ms/step - loss: 0.0014 - accuracy: 1.0000 - val_loss: 0.0734 - val_accuracy: 0.9125\n",
      "Epoch 74/150\n",
      "20/20 [==============================] - 2s 119ms/step - loss: 0.0022 - accuracy: 1.0000 - val_loss: 0.0843 - val_accuracy: 0.8781\n",
      "Epoch 75/150\n",
      "20/20 [==============================] - 2s 109ms/step - loss: 0.0027 - accuracy: 1.0000 - val_loss: 0.0887 - val_accuracy: 0.8750\n",
      "Epoch 76/150\n",
      "20/20 [==============================] - 2s 122ms/step - loss: 0.0025 - accuracy: 0.9969 - val_loss: 0.0850 - val_accuracy: 0.8750\n",
      "Epoch 77/150\n",
      "20/20 [==============================] - 3s 177ms/step - loss: 0.0016 - accuracy: 1.0000 - val_loss: 0.0927 - val_accuracy: 0.8750\n",
      "Epoch 78/150\n",
      "20/20 [==============================] - 2s 120ms/step - loss: 0.0020 - accuracy: 0.9969 - val_loss: 0.1060 - val_accuracy: 0.8469\n",
      "Epoch 79/150\n",
      "20/20 [==============================] - 2s 119ms/step - loss: 0.0014 - accuracy: 1.0000 - val_loss: 0.1082 - val_accuracy: 0.8469\n",
      "Epoch 80/150\n",
      "20/20 [==============================] - 2s 119ms/step - loss: 0.0053 - accuracy: 0.9969 - val_loss: 0.1082 - val_accuracy: 0.8562\n",
      "Epoch 81/150\n",
      "20/20 [==============================] - 2s 120ms/step - loss: 0.0088 - accuracy: 0.9875 - val_loss: 0.0989 - val_accuracy: 0.8625\n",
      "Epoch 82/150\n",
      "20/20 [==============================] - 3s 172ms/step - loss: 0.0032 - accuracy: 0.9969 - val_loss: 0.0980 - val_accuracy: 0.8750\n",
      "Epoch 83/150\n",
      "20/20 [==============================] - 2s 120ms/step - loss: 0.0012 - accuracy: 1.0000 - val_loss: 0.0995 - val_accuracy: 0.8687\n",
      "Epoch 84/150\n",
      "20/20 [==============================] - 2s 120ms/step - loss: 0.0012 - accuracy: 1.0000 - val_loss: 0.0919 - val_accuracy: 0.8750\n",
      "Epoch 85/150\n",
      "20/20 [==============================] - 2s 108ms/step - loss: 5.9568e-04 - accuracy: 1.0000 - val_loss: 0.0830 - val_accuracy: 0.8875\n",
      "Epoch 86/150\n",
      "20/20 [==============================] - 2s 119ms/step - loss: 5.1363e-04 - accuracy: 1.0000 - val_loss: 0.0869 - val_accuracy: 0.8813\n",
      "Epoch 87/150\n",
      "20/20 [==============================] - 4s 198ms/step - loss: 4.0400e-04 - accuracy: 1.0000 - val_loss: 0.0890 - val_accuracy: 0.8813\n",
      "Epoch 88/150\n",
      "20/20 [==============================] - 2s 119ms/step - loss: 0.0016 - accuracy: 1.0000 - val_loss: 0.1016 - val_accuracy: 0.8719\n",
      "Epoch 89/150\n",
      "20/20 [==============================] - 2s 119ms/step - loss: 0.0018 - accuracy: 1.0000 - val_loss: 0.0907 - val_accuracy: 0.8938\n",
      "Epoch 90/150\n",
      "20/20 [==============================] - 2s 120ms/step - loss: 0.0020 - accuracy: 1.0000 - val_loss: 0.0950 - val_accuracy: 0.8687\n",
      "Epoch 91/150\n",
      "20/20 [==============================] - 2s 120ms/step - loss: 0.0018 - accuracy: 1.0000 - val_loss: 0.0978 - val_accuracy: 0.8625\n",
      "Epoch 92/150\n",
      "20/20 [==============================] - 3s 175ms/step - loss: 0.0024 - accuracy: 0.9969 - val_loss: 0.1094 - val_accuracy: 0.8375\n",
      "Epoch 93/150\n",
      "20/20 [==============================] - 2s 119ms/step - loss: 0.0025 - accuracy: 1.0000 - val_loss: 0.0922 - val_accuracy: 0.8625\n",
      "Epoch 94/150\n",
      "20/20 [==============================] - 2s 120ms/step - loss: 0.0023 - accuracy: 1.0000 - val_loss: 0.0820 - val_accuracy: 0.8906\n",
      "Epoch 95/150\n",
      "20/20 [==============================] - 2s 119ms/step - loss: 0.0010 - accuracy: 1.0000 - val_loss: 0.0836 - val_accuracy: 0.8813\n",
      "Epoch 96/150\n",
      "20/20 [==============================] - 2s 120ms/step - loss: 8.3638e-04 - accuracy: 1.0000 - val_loss: 0.0857 - val_accuracy: 0.8813\n",
      "Epoch 97/150\n",
      "20/20 [==============================] - 3s 177ms/step - loss: 0.0023 - accuracy: 0.9969 - val_loss: 0.0917 - val_accuracy: 0.8656\n",
      "Epoch 98/150\n",
      "20/20 [==============================] - 2s 119ms/step - loss: 5.4894e-04 - accuracy: 1.0000 - val_loss: 0.0900 - val_accuracy: 0.8687\n",
      "Epoch 99/150\n",
      "20/20 [==============================] - 2s 108ms/step - loss: 0.0015 - accuracy: 0.9969 - val_loss: 0.0876 - val_accuracy: 0.8844\n",
      "Epoch 100/150\n",
      "20/20 [==============================] - 2s 110ms/step - loss: 0.0014 - accuracy: 0.9969 - val_loss: 0.0968 - val_accuracy: 0.8594\n",
      "Epoch 101/150\n",
      "20/20 [==============================] - 2s 107ms/step - loss: 0.0013 - accuracy: 1.0000 - val_loss: 0.1044 - val_accuracy: 0.8500\n",
      "Epoch 102/150\n",
      "20/20 [==============================] - 3s 163ms/step - loss: 4.9883e-04 - accuracy: 1.0000 - val_loss: 0.0998 - val_accuracy: 0.8562\n",
      "Epoch 103/150\n",
      "20/20 [==============================] - 3s 126ms/step - loss: 3.2752e-04 - accuracy: 1.0000 - val_loss: 0.0999 - val_accuracy: 0.8531\n",
      "Epoch 104/150\n",
      "20/20 [==============================] - 2s 120ms/step - loss: 1.9046e-04 - accuracy: 1.0000 - val_loss: 0.0939 - val_accuracy: 0.8687\n",
      "Epoch 105/150\n",
      "20/20 [==============================] - 2s 122ms/step - loss: 5.6867e-04 - accuracy: 1.0000 - val_loss: 0.0879 - val_accuracy: 0.8813\n",
      "Epoch 106/150\n",
      "20/20 [==============================] - 2s 119ms/step - loss: 0.0018 - accuracy: 1.0000 - val_loss: 0.1050 - val_accuracy: 0.8594\n",
      "Epoch 107/150\n",
      "20/20 [==============================] - 4s 193ms/step - loss: 1.9769e-04 - accuracy: 1.0000 - val_loss: 0.1044 - val_accuracy: 0.8562\n",
      "Epoch 108/150\n",
      "20/20 [==============================] - 2s 111ms/step - loss: 0.0016 - accuracy: 0.9969 - val_loss: 0.1141 - val_accuracy: 0.8469\n",
      "Epoch 109/150\n",
      "20/20 [==============================] - 2s 116ms/step - loss: 0.0017 - accuracy: 1.0000 - val_loss: 0.1089 - val_accuracy: 0.8531\n",
      "Epoch 110/150\n",
      "20/20 [==============================] - 2s 108ms/step - loss: 3.0964e-04 - accuracy: 1.0000 - val_loss: 0.1029 - val_accuracy: 0.8625\n",
      "Epoch 111/150\n",
      "20/20 [==============================] - 2s 120ms/step - loss: 0.0124 - accuracy: 0.9875 - val_loss: 0.1053 - val_accuracy: 0.8594\n",
      "Epoch 112/150\n",
      "20/20 [==============================] - 4s 193ms/step - loss: 0.0017 - accuracy: 1.0000 - val_loss: 0.1016 - val_accuracy: 0.8719\n",
      "Epoch 113/150\n",
      "20/20 [==============================] - 2s 120ms/step - loss: 0.0024 - accuracy: 1.0000 - val_loss: 0.1081 - val_accuracy: 0.8531\n",
      "Epoch 114/150\n",
      "20/20 [==============================] - 2s 120ms/step - loss: 6.1148e-04 - accuracy: 1.0000 - val_loss: 0.1066 - val_accuracy: 0.8719\n",
      "Epoch 115/150\n",
      "20/20 [==============================] - 2s 119ms/step - loss: 0.0011 - accuracy: 1.0000 - val_loss: 0.1081 - val_accuracy: 0.8531\n",
      "Epoch 116/150\n",
      "20/20 [==============================] - 2s 121ms/step - loss: 6.5521e-04 - accuracy: 1.0000 - val_loss: 0.1107 - val_accuracy: 0.8500\n",
      "Epoch 117/150\n",
      "20/20 [==============================] - 3s 180ms/step - loss: 1.4833e-04 - accuracy: 1.0000 - val_loss: 0.1139 - val_accuracy: 0.8500\n",
      "Epoch 118/150\n",
      "20/20 [==============================] - 2s 110ms/step - loss: 0.0038 - accuracy: 0.9937 - val_loss: 0.1000 - val_accuracy: 0.8687\n",
      "Epoch 119/150\n",
      "20/20 [==============================] - 2s 118ms/step - loss: 0.0019 - accuracy: 0.9969 - val_loss: 0.1221 - val_accuracy: 0.8438\n",
      "Epoch 120/150\n",
      "20/20 [==============================] - 2s 121ms/step - loss: 3.3869e-04 - accuracy: 1.0000 - val_loss: 0.1174 - val_accuracy: 0.8562\n",
      "Epoch 121/150\n",
      "20/20 [==============================] - 2s 110ms/step - loss: 3.9448e-04 - accuracy: 1.0000 - val_loss: 0.1182 - val_accuracy: 0.8562\n",
      "Epoch 122/150\n",
      "20/20 [==============================] - 3s 172ms/step - loss: 1.4589e-04 - accuracy: 1.0000 - val_loss: 0.1088 - val_accuracy: 0.8562\n",
      "Epoch 123/150\n",
      "20/20 [==============================] - 2s 121ms/step - loss: 0.0051 - accuracy: 0.9969 - val_loss: 0.1124 - val_accuracy: 0.8562\n",
      "Epoch 124/150\n",
      "20/20 [==============================] - 2s 119ms/step - loss: 0.0033 - accuracy: 0.9937 - val_loss: 0.1243 - val_accuracy: 0.8406\n",
      "Epoch 125/150\n",
      "20/20 [==============================] - 2s 121ms/step - loss: 0.0033 - accuracy: 0.9937 - val_loss: 0.1139 - val_accuracy: 0.8469\n",
      "Epoch 126/150\n",
      "20/20 [==============================] - 2s 124ms/step - loss: 4.2284e-04 - accuracy: 1.0000 - val_loss: 0.1165 - val_accuracy: 0.8375\n",
      "Epoch 127/150\n",
      "20/20 [==============================] - 4s 201ms/step - loss: 0.0021 - accuracy: 1.0000 - val_loss: 0.1160 - val_accuracy: 0.8562\n",
      "Epoch 128/150\n",
      "20/20 [==============================] - 2s 121ms/step - loss: 0.0038 - accuracy: 0.9969 - val_loss: 0.1112 - val_accuracy: 0.8531\n",
      "Epoch 129/150\n",
      "20/20 [==============================] - 2s 119ms/step - loss: 1.9513e-04 - accuracy: 1.0000 - val_loss: 0.1096 - val_accuracy: 0.8562\n",
      "Epoch 130/150\n",
      "20/20 [==============================] - 2s 108ms/step - loss: 0.0028 - accuracy: 0.9969 - val_loss: 0.1042 - val_accuracy: 0.8719\n",
      "Epoch 131/150\n",
      "20/20 [==============================] - 2s 119ms/step - loss: 0.0011 - accuracy: 1.0000 - val_loss: 0.1071 - val_accuracy: 0.8656\n",
      "Epoch 132/150\n",
      "20/20 [==============================] - 3s 174ms/step - loss: 0.0042 - accuracy: 0.9969 - val_loss: 0.1101 - val_accuracy: 0.8531\n",
      "Epoch 133/150\n",
      "20/20 [==============================] - 2s 118ms/step - loss: 0.0019 - accuracy: 1.0000 - val_loss: 0.1078 - val_accuracy: 0.8750\n",
      "Epoch 134/150\n",
      "20/20 [==============================] - 2s 120ms/step - loss: 2.9417e-04 - accuracy: 1.0000 - val_loss: 0.1016 - val_accuracy: 0.8750\n",
      "Epoch 135/150\n",
      "20/20 [==============================] - 2s 122ms/step - loss: 0.0055 - accuracy: 0.9937 - val_loss: 0.0904 - val_accuracy: 0.8875\n",
      "Epoch 136/150\n",
      "20/20 [==============================] - 2s 121ms/step - loss: 5.3042e-04 - accuracy: 1.0000 - val_loss: 0.0946 - val_accuracy: 0.8719\n",
      "Epoch 137/150\n",
      "20/20 [==============================] - 3s 179ms/step - loss: 0.0017 - accuracy: 0.9969 - val_loss: 0.0985 - val_accuracy: 0.8719\n",
      "Epoch 138/150\n",
      "20/20 [==============================] - 2s 121ms/step - loss: 0.0029 - accuracy: 0.9969 - val_loss: 0.0896 - val_accuracy: 0.8813\n",
      "Epoch 139/150\n",
      "20/20 [==============================] - 2s 120ms/step - loss: 4.2229e-04 - accuracy: 1.0000 - val_loss: 0.0941 - val_accuracy: 0.8813\n",
      "Epoch 140/150\n",
      "20/20 [==============================] - 2s 120ms/step - loss: 0.0057 - accuracy: 0.9875 - val_loss: 0.0996 - val_accuracy: 0.8750\n",
      "Epoch 141/150\n",
      "20/20 [==============================] - 2s 121ms/step - loss: 3.6084e-04 - accuracy: 1.0000 - val_loss: 0.0906 - val_accuracy: 0.8781\n",
      "Epoch 142/150\n",
      "20/20 [==============================] - 3s 178ms/step - loss: 0.0024 - accuracy: 0.9969 - val_loss: 0.1020 - val_accuracy: 0.8625\n",
      "Epoch 143/150\n",
      "20/20 [==============================] - 2s 120ms/step - loss: 4.0688e-04 - accuracy: 1.0000 - val_loss: 0.1046 - val_accuracy: 0.8531\n",
      "Epoch 144/150\n",
      "20/20 [==============================] - 2s 120ms/step - loss: 1.0385e-04 - accuracy: 1.0000 - val_loss: 0.1026 - val_accuracy: 0.8625\n",
      "Epoch 145/150\n",
      "20/20 [==============================] - 2s 110ms/step - loss: 0.0013 - accuracy: 1.0000 - val_loss: 0.1025 - val_accuracy: 0.8719\n",
      "Epoch 146/150\n",
      "20/20 [==============================] - 2s 123ms/step - loss: 7.1646e-04 - accuracy: 1.0000 - val_loss: 0.0890 - val_accuracy: 0.8813\n",
      "Epoch 147/150\n",
      "20/20 [==============================] - 3s 178ms/step - loss: 6.7646e-04 - accuracy: 1.0000 - val_loss: 0.0849 - val_accuracy: 0.8969\n",
      "Epoch 148/150\n",
      "20/20 [==============================] - 2s 121ms/step - loss: 0.0013 - accuracy: 1.0000 - val_loss: 0.1188 - val_accuracy: 0.8469\n",
      "Epoch 149/150\n",
      "20/20 [==============================] - 2s 121ms/step - loss: 0.0010 - accuracy: 1.0000 - val_loss: 0.1187 - val_accuracy: 0.8500\n",
      "Epoch 150/150\n",
      "20/20 [==============================] - 2s 121ms/step - loss: 0.0023 - accuracy: 1.0000 - val_loss: 0.1010 - val_accuracy: 0.8750\n"
     ]
    }
   ],
   "source": [
    "history = siamese.fit(\n",
    "    [x_train_1, x_train_2],\n",
    "    labels_train,\n",
    "    validation_data=([x_val_1, x_val_2], labels_val),\n",
    "    batch_size=batch_size,\n",
    "    epochs=150,\n",
    ")"
   ]
  },
  {
   "cell_type": "code",
   "execution_count": 83,
   "metadata": {
    "colab": {
     "base_uri": "https://localhost:8080/",
     "height": 927
    },
    "id": "hUDfWY9LpHqm",
    "outputId": "3437f253-1d80-4701-84f9-12e11ec37abe"
   },
   "outputs": [
    {
     "data": {
      "image/png": "[encoded data removed]",
      "text/plain": [
       "<Figure size 640x480 with 1 Axes>"
      ]
     },
     "metadata": {},
     "output_type": "display_data"
    },
    {
     "data": {
      "image/png": "[encoded data removed]",
      "text/plain": [
       "<Figure size 640x480 with 1 Axes>"
      ]
     },
     "metadata": {},
     "output_type": "display_data"
    }
   ],
   "source": [
    "def plt_metric(history, metric, title, has_valid=True):\n",
    "    \"\"\"Plots the given 'metric' from 'history'.\n",
    "\n",
    "    Arguments:\n",
    "        history: history attribute of History object returned from Model.fit.\n",
    "        metric: Metric to plot, a string value present as key in 'history'.\n",
    "        title: A string to be used as title of plot.\n",
    "        has_valid: Boolean, true if valid data was passed to Model.fit else false.\n",
    "\n",
    "    Returns:\n",
    "        None.\n",
    "    \"\"\"\n",
    "    plt.plot(history[metric])\n",
    "    if has_valid:\n",
    "        plt.plot(history[\"val_\" + metric])\n",
    "        plt.legend([\"train\", \"validation\"], loc=\"upper left\")\n",
    "    plt.title(title)\n",
    "    plt.ylabel(metric)\n",
    "    plt.xlabel(\"epoch\")\n",
    "    plt.show()\n",
    "\n",
    "\n",
    "# Plot the accuracy\n",
    "plt_metric(history=history.history, metric=\"accuracy\", title=\"Model accuracy\")\n",
    "\n",
    "# Plot the contrastive loss\n",
    "plt_metric(history=history.history, metric=\"loss\", title=\"Contrastive Loss\")\n",
    "# plt.savefig('./images/model_accuray_loss')"
   ]
  },
  {
   "cell_type": "code",
   "execution_count": 84,
   "metadata": {
    "colab": {
     "base_uri": "https://localhost:8080/"
    },
    "id": "xy9CDPKDr-XU",
    "outputId": "131a0de4-8d8b-4a47-c8ee-b5c063c9671d"
   },
   "outputs": [
    {
     "name": "stdout",
     "output_type": "stream",
     "text": [
      "5/5 [==============================] - 1s 71ms/step - loss: 0.0666 - accuracy: 0.9187\n",
      "test loss, test acc: [0.06661296635866165, 0.918749988079071]\n"
     ]
    }
   ],
   "source": [
    "results = siamese.evaluate([x_test_1, x_test_2], labels_test)\n",
    "print(\"test loss, test acc:\", results)"
   ]
  },
  {
   "cell_type": "code",
   "execution_count": 85,
   "metadata": {
    "colab": {
     "base_uri": "https://localhost:8080/",
     "height": 975
    },
    "id": "uORcI1NxsAyB",
    "outputId": "a60e73d4-d625-4e57-e534-5164efb55fda"
   },
   "outputs": [
    {
     "name": "stdout",
     "output_type": "stream",
     "text": [
      "5/5 [==============================] - 0s 42ms/step\n"
     ]
    },
    {
     "data": {
      "image/png": "[encoded data removed]",
      "text/plain": [
       "<Figure size 500x500 with 3 Axes>"
      ]
     },
     "metadata": {},
     "output_type": "display_data"
    }
   ],
   "source": [
    "predictions = siamese.predict([x_test_1, x_test_2])\n",
    "visualize(pairs_test, labels_test, to_show=3, predictions=predictions, test=True)"
   ]
  },
  {
   "cell_type": "code",
   "execution_count": 92,
   "metadata": {
    "colab": {
     "base_uri": "https://localhost:8080/"
    },
    "id": "5bumv_5FASAt",
    "outputId": "21dbd0b3-c5e5-46af-9809-b02dbd2879ad"
   },
   "outputs": [
    {
     "data": {
      "text/plain": [
       "['lib',\n",
       " 'sys',\n",
       " 'var',\n",
       " 'etc',\n",
       " 'tmp',\n",
       " 'lib32',\n",
       " 'media',\n",
       " 'sbin',\n",
       " 'opt',\n",
       " 'boot',\n",
       " 'bin',\n",
       " 'libx32',\n",
       " 'run',\n",
       " 'lib64',\n",
       " 'srv',\n",
       " 'usr',\n",
       " 'home',\n",
       " 'mnt',\n",
       " 'proc',\n",
       " 'root',\n",
       " 'dev',\n",
       " '.dockerenv',\n",
       " 'tools',\n",
       " 'datalab',\n",
       " 'content',\n",
       " 'NGC-DL-CONTAINER-LICENSE',\n",
       " 'cuda-keyring_1.0-1_all.deb']"
      ]
     },
     "execution_count": 92,
     "metadata": {},
     "output_type": "execute_result"
    }
   ],
   "source": [
    "import os\n",
    "os.listdir('../..')"
   ]
  },
  {
   "cell_type": "code",
   "execution_count": 88,
   "metadata": {
    "colab": {
     "base_uri": "https://localhost:8080/",
     "height": 866
    },
    "id": "SusKaf93smRw",
    "outputId": "e9986489-1800-4667-a3fe-a19b72dc96ab"
   },
   "outputs": [
    {
     "data": {
      "image/png": "[encoded data removed]",
      "text/plain": [
       "<Figure size 640x480 with 2 Axes>"
      ]
     },
     "metadata": {},
     "output_type": "display_data"
    },
    {
     "data": {
      "image/png": "[encoded data removed]",
      "text/plain": [
       "<Figure size 640x480 with 2 Axes>"
      ]
     },
     "metadata": {},
     "output_type": "display_data"
    },
    {
     "name": "stdout",
     "output_type": "stream",
     "text": [
      "1.0\n"
     ]
    }
   ],
   "source": [
    "pairs_test[0]\n",
    "def show_image(image):\n",
    "    plt.figure()\n",
    "    plt.imshow(image)\n",
    "    plt.colorbar()\n",
    "    plt.grid(False)\n",
    "    plt.show()\n",
    "\n",
    "this_pair = 3\n",
    "show_image(pairs_test[this_pair][0])\n",
    "show_image(pairs_test[this_pair][1])\n",
    "print(labels_test[this_pair])"
   ]
  },
  {
   "cell_type": "code",
   "execution_count": null,
   "metadata": {
    "id": "wq_BKtr70-3n"
   },
   "outputs": [],
   "source": []
  }
 ],
 "metadata": {
  "colab": {
   "provenance": []
  },
  "kernelspec": {
   "display_name": "faceid",
   "language": "python",
   "name": "faceid"
  },
  "language_info": {
   "codemirror_mode": {
    "name": "ipython",
    "version": 3
   },
   "file_extension": ".py",
   "mimetype": "text/x-python",
   "name": "python",
   "nbconvert_exporter": "python",
   "pygments_lexer": "ipython3",
   "version": "3.10.13"
  },
  "varInspector": {
   "cols": {
    "lenName": 16,
    "lenType": 16,
    "lenVar": 40
   },
   "kernels_config": {
    "python": {
     "delete_cmd_postfix": "",
     "delete_cmd_prefix": "del ",
     "library": "var_list.py",
     "varRefreshCmd": "print(var_dic_list())"
    },
    "r": {
     "delete_cmd_postfix": ") ",
     "delete_cmd_prefix": "rm(",
     "library": "var_list.r",
     "varRefreshCmd": "cat(var_dic_list()) "
    }
   },
   "types_to_exclude": [
    "module",
    "function",
    "builtin_function_or_method",
    "instance",
    "_Feature"
   ],
   "window_display": false
  }
 },
 "nbformat": 4,
 "nbformat_minor": 1
}
